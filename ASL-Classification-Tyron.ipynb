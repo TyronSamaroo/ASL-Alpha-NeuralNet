{
 "cells": [
  {
   "cell_type": "markdown",
   "metadata": {},
   "source": [
    "# Setup"
   ]
  },
  {
   "cell_type": "code",
   "execution_count": 3,
   "metadata": {},
   "outputs": [
    {
     "name": "stderr",
     "output_type": "stream",
     "text": [
      "Using TensorFlow backend.\n"
     ]
    }
   ],
   "source": [
    "import numpy as np\n",
    "import os\n",
    "import keras\n",
    "from keras.models import Sequential\n",
    "from keras.layers import Activation\n",
    "from keras.layers import Dense, Flatten, Activation, Conv2D, Dropout, BatchNormalization, MaxPool2D\n",
    "\n",
    "from keras.callbacks import TensorBoard\n",
    "from keras.optimizers import Adam\n",
    "\n",
    "from keras.preprocessing.image import ImageDataGenerator\n",
    "from keras import optimizers,regularizers\n",
    "from keras.utils import to_categorical\n",
    "import matplotlib.pyplot as plt\n",
    "\n",
    "from sklearn.preprocessing import StandardScaler\n",
    "from sklearn.model_selection import train_test_split\n",
    "\n",
    "import cv2\n",
    "import shutil"
   ]
  },
  {
   "cell_type": "code",
   "execution_count": null,
   "metadata": {},
   "outputs": [],
   "source": []
  },
  {
   "cell_type": "markdown",
   "metadata": {},
   "source": [
    "# Path"
   ]
  },
  {
   "cell_type": "code",
   "execution_count": 4,
   "metadata": {},
   "outputs": [],
   "source": [
    "train_path = 'asl-alphabet/asl_alphabet_train/asl_alphabet_train/'\n",
    "test_path = 'asl-alphabet/asl_alphabet_test/asl_alphabet_test/'"
   ]
  },
  {
   "cell_type": "markdown",
   "metadata": {},
   "source": [
    "This quick way for me to label all my classes"
   ]
  },
  {
   "cell_type": "code",
   "execution_count": 5,
   "metadata": {},
   "outputs": [],
   "source": [
    "CATEGORIES = []\n",
    "\n",
    "for i in range(0,26):\n",
    "    CATEGORIES.append(chr(ord('A') + i))\n",
    "\n",
    "CATEGORIES.append('space')\n",
    "CATEGORIES.append('nothing')\n",
    "CATEGORIES.append('del')"
   ]
  },
  {
   "cell_type": "code",
   "execution_count": null,
   "metadata": {},
   "outputs": [],
   "source": []
  },
  {
   "cell_type": "code",
   "execution_count": null,
   "metadata": {},
   "outputs": [],
   "source": []
  },
  {
   "cell_type": "markdown",
   "metadata": {},
   "source": [
    "# Preprocessing Data"
   ]
  },
  {
   "cell_type": "code",
   "execution_count": 6,
   "metadata": {},
   "outputs": [
    {
     "name": "stdout",
     "output_type": "stream",
     "text": [
      "Found 69600 images belonging to 29 classes.\n",
      "Found 17400 images belonging to 29 classes.\n"
     ]
    }
   ],
   "source": [
    "generator = ImageDataGenerator(validation_split=0.2)\n",
    "generator1 = ImageDataGenerator(validation_split=0.2)\n",
    "train_batches = generator.flow_from_directory(train_path,\n",
    "                                              target_size=(64,64),\n",
    "                                              classes = CATEGORIES,\n",
    "                                              color_mode='rgb',\n",
    "                                              batch_size=30,\n",
    "                                              subset='training')\n",
    "valid_batches = generator1.flow_from_directory(train_path,\n",
    "                                              target_size=(64,64),\n",
    "                                              classes = CATEGORIES,\n",
    "                                              color_mode='rgb',\n",
    "                                              batch_size=10,\n",
    "                                              subset= 'validation')\n"
   ]
  },
  {
   "cell_type": "code",
   "execution_count": 9,
   "metadata": {},
   "outputs": [
    {
     "ename": "FileExistsError",
     "evalue": "[Errno 17] File exists: 'asl-alphabet/asl_alphabet_test/asl_alphabet_test/F'",
     "output_type": "error",
     "traceback": [
      "\u001b[0;31m---------------------------------------------------------------------------\u001b[0m",
      "\u001b[0;31mFileExistsError\u001b[0m                           Traceback (most recent call last)",
      "\u001b[0;32m<ipython-input-9-206dc6929b42>\u001b[0m in \u001b[0;36m<module>\u001b[0;34m\u001b[0m\n\u001b[1;32m      2\u001b[0m     \u001b[0mcat\u001b[0m\u001b[0;34m,\u001b[0m \u001b[0m_\u001b[0m \u001b[0;34m=\u001b[0m \u001b[0mname\u001b[0m\u001b[0;34m.\u001b[0m\u001b[0msplit\u001b[0m\u001b[0;34m(\u001b[0m\u001b[0;34m'_'\u001b[0m\u001b[0;34m)\u001b[0m\u001b[0;34m\u001b[0m\u001b[0;34m\u001b[0m\u001b[0m\n\u001b[1;32m      3\u001b[0m     \u001b[0;31m#os.remove()\u001b[0m\u001b[0;34m\u001b[0m\u001b[0;34m\u001b[0m\u001b[0;34m\u001b[0m\u001b[0m\n\u001b[0;32m----> 4\u001b[0;31m     \u001b[0mos\u001b[0m\u001b[0;34m.\u001b[0m\u001b[0mmakedirs\u001b[0m\u001b[0;34m(\u001b[0m\u001b[0mos\u001b[0m\u001b[0;34m.\u001b[0m\u001b[0mpath\u001b[0m\u001b[0;34m.\u001b[0m\u001b[0mjoin\u001b[0m\u001b[0;34m(\u001b[0m\u001b[0mtest_path\u001b[0m\u001b[0;34m,\u001b[0m\u001b[0mcat\u001b[0m\u001b[0;34m)\u001b[0m\u001b[0;34m)\u001b[0m\u001b[0;34m\u001b[0m\u001b[0;34m\u001b[0m\u001b[0m\n\u001b[0m\u001b[1;32m      5\u001b[0m \u001b[0;34m\u001b[0m\u001b[0m\n",
      "\u001b[0;32m~/opt/anaconda3/lib/python3.7/os.py\u001b[0m in \u001b[0;36mmakedirs\u001b[0;34m(name, mode, exist_ok)\u001b[0m\n\u001b[1;32m    219\u001b[0m             \u001b[0;32mreturn\u001b[0m\u001b[0;34m\u001b[0m\u001b[0;34m\u001b[0m\u001b[0m\n\u001b[1;32m    220\u001b[0m     \u001b[0;32mtry\u001b[0m\u001b[0;34m:\u001b[0m\u001b[0;34m\u001b[0m\u001b[0;34m\u001b[0m\u001b[0m\n\u001b[0;32m--> 221\u001b[0;31m         \u001b[0mmkdir\u001b[0m\u001b[0;34m(\u001b[0m\u001b[0mname\u001b[0m\u001b[0;34m,\u001b[0m \u001b[0mmode\u001b[0m\u001b[0;34m)\u001b[0m\u001b[0;34m\u001b[0m\u001b[0;34m\u001b[0m\u001b[0m\n\u001b[0m\u001b[1;32m    222\u001b[0m     \u001b[0;32mexcept\u001b[0m \u001b[0mOSError\u001b[0m\u001b[0;34m:\u001b[0m\u001b[0;34m\u001b[0m\u001b[0;34m\u001b[0m\u001b[0m\n\u001b[1;32m    223\u001b[0m         \u001b[0;31m# Cannot rely on checking for EEXIST, since the operating system\u001b[0m\u001b[0;34m\u001b[0m\u001b[0;34m\u001b[0m\u001b[0;34m\u001b[0m\u001b[0m\n",
      "\u001b[0;31mFileExistsError\u001b[0m: [Errno 17] File exists: 'asl-alphabet/asl_alphabet_test/asl_alphabet_test/F'"
     ]
    }
   ],
   "source": [
    "for name in os.listdir(test_path):\n",
    "    cat, _ = name.split('_')\n",
    "    os.remove('asl-alphabet/asl_alphabet_test/asl_alphabet_test/)\n",
    "    os.makedirs(os.path.join(test_path,cat))\n",
    "    "
   ]
  },
  {
   "cell_type": "code",
   "execution_count": 52,
   "metadata": {},
   "outputs": [],
   "source": [
    "images, labels = next(train_batches)\n"
   ]
  },
  {
   "cell_type": "code",
   "execution_count": 100,
   "metadata": {},
   "outputs": [
    {
     "name": "stdout",
     "output_type": "stream",
     "text": [
      "A_test.jpg        G_test.jpg        M_test.jpg        U_test.jpg\r\n",
      "B_test.jpg        H_test.jpg        N_test.jpg        V_test.jpg\r\n",
      "C_test.jpg        I_test.jpg        O_test.jpg        W_test.jpg\r\n",
      "D_test.jpg        J_test.jpg        P_test.jpg        X_test.jpg\r\n",
      "E_test.jpg        K_test.jpg        Q_test.jpg        Y_test.jpg\r\n",
      "\u001b[1m\u001b[36mF\u001b[m\u001b[m/                \u001b[1m\u001b[36mL\u001b[m\u001b[m/                R_test.jpg        Z_test.jpg\r\n",
      "F_test.jpg        L_test.jpg        S_test.jpg        nothing_test.jpg\r\n",
      "\u001b[1m\u001b[36mG\u001b[m\u001b[m/                \u001b[1m\u001b[36mM\u001b[m\u001b[m/                T_test.jpg        space_test.jpg\r\n"
     ]
    }
   ],
   "source": [
    "ls"
   ]
  },
  {
   "cell_type": "code",
   "execution_count": 53,
   "metadata": {},
   "outputs": [],
   "source": [
    "def plot_images(images):\n",
    "    for i in range(5):\n",
    "        plt.imshow((images[i]).astype(np.uint8))\n",
    "        plt.title(CATEGORIES[int(np.where(labels[i] == 1)[0])])\n",
    "        plt.show()"
   ]
  },
  {
   "cell_type": "markdown",
   "metadata": {},
   "source": [
    "# Plotting Images\n",
    "\n",
    "Can verify labels are correct with provided chart"
   ]
  },
  {
   "cell_type": "code",
   "execution_count": 54,
   "metadata": {},
   "outputs": [
    {
     "data": {
      "text/html": [
       "<img src=\"RefImg.jpg\" alt=\"ASL-Alphabet\">\n"
      ],
      "text/plain": [
       "<IPython.core.display.HTML object>"
      ]
     },
     "metadata": {},
     "output_type": "display_data"
    }
   ],
   "source": [
    "%%html\n",
    "<img src=\"RefImg.jpg\" alt=\"ASL-Alphabet\">"
   ]
  },
  {
   "cell_type": "code",
   "execution_count": 55,
   "metadata": {},
   "outputs": [
    {
     "data": {
      "image/png": "[encoded data removed]",
      "text/plain": [
       "<Figure size 432x288 with 1 Axes>"
      ]
     },
     "metadata": {
      "needs_background": "light"
     },
     "output_type": "display_data"
    },
    {
     "data": {
      "image/png": "[encoded data removed]",
      "text/plain": [
       "<Figure size 432x288 with 1 Axes>"
      ]
     },
     "metadata": {
      "needs_background": "light"
     },
     "output_type": "display_data"
    },
    {
     "data": {
      "image/png": "[encoded data removed]",
      "text/plain": [
       "<Figure size 432x288 with 1 Axes>"
      ]
     },
     "metadata": {
      "needs_background": "light"
     },
     "output_type": "display_data"
    },
    {
     "data": {
      "image/png": "[encoded data removed]",
      "text/plain": [
       "<Figure size 432x288 with 1 Axes>"
      ]
     },
     "metadata": {
      "needs_background": "light"
     },
     "output_type": "display_data"
    },
    {
     "data": {
      "image/png": "[encoded data removed]",
      "text/plain": [
       "<Figure size 432x288 with 1 Axes>"
      ]
     },
     "metadata": {
      "needs_background": "light"
     },
     "output_type": "display_data"
    }
   ],
   "source": [
    "plot_images(images)"
   ]
  },
  {
   "cell_type": "markdown",
   "metadata": {},
   "source": [
    "# Build Model"
   ]
  },
  {
   "cell_type": "code",
   "execution_count": 56,
   "metadata": {},
   "outputs": [],
   "source": [
    "model = Sequential()\n",
    "model.add(Conv2D(64, kernel_size=4, strides=1, activation='relu', input_shape=(64,64,3)))\n",
    "model.add(Conv2D(64, kernel_size=4, strides=2, activation='relu'))\n",
    "#model.add(Dropout(0.5))\n",
    "\n",
    "model.add(Conv2D(128, kernel_size=4, strides=1, activation='relu'))\n",
    "model.add(Conv2D(128, kernel_size=4, strides=2, activation='relu'))\n",
    "#model.add(Dropout(0.5))\n",
    "\n",
    "model.add(Conv2D(256, kernel_size=4, strides=1, activation='relu'))\n",
    "model.add(Conv2D(256, kernel_size=4, strides=2, activation='relu'))\n",
    "\n",
    "model.add(BatchNormalization())\n",
    "\n",
    "model.add(Flatten())\n",
    "#model.add(Dropout(0.5))\n",
    "model.add(Dense(512, activation='relu', kernel_regularizer = regularizers.l2(0.001)))\n",
    "model.add(Dense(29, activation='softmax'))"
   ]
  },
  {
   "cell_type": "code",
   "execution_count": 57,
   "metadata": {},
   "outputs": [],
   "source": [
    "model.compile(optimizer= 'sgd', loss= \"categorical_crossentropy\", metrics=['accuracy'])"
   ]
  },
  {
   "cell_type": "code",
   "execution_count": 59,
   "metadata": {},
   "outputs": [
    {
     "name": "stdout",
     "output_type": "stream",
     "text": [
      "Epoch 1/50\n",
      " - 7s - loss: 3.8524 - accuracy: 0.1344 - val_loss: 4.4318 - val_accuracy: 0.0600\n",
      "Epoch 2/50\n",
      " - 7s - loss: 3.7854 - accuracy: 0.1856 - val_loss: 4.6783 - val_accuracy: 0.0700\n",
      "Epoch 3/50\n",
      " - 7s - loss: 3.7741 - accuracy: 0.1856 - val_loss: 3.6750 - val_accuracy: 0.0500\n",
      "Epoch 4/50\n",
      " - 7s - loss: 3.7377 - accuracy: 0.2033 - val_loss: 4.4826 - val_accuracy: 0.0900\n",
      "Epoch 5/50\n",
      " - 7s - loss: 3.7774 - accuracy: 0.1800 - val_loss: 6.3504 - val_accuracy: 0.0300\n",
      "Epoch 6/50\n",
      " - 7s - loss: 3.7457 - accuracy: 0.1767 - val_loss: 5.8273 - val_accuracy: 0.0700\n",
      "Epoch 7/50\n",
      " - 8s - loss: 3.7188 - accuracy: 0.1700 - val_loss: 4.4879 - val_accuracy: 0.0600\n",
      "Epoch 8/50\n",
      " - 8s - loss: 3.7160 - accuracy: 0.1856 - val_loss: 4.4807 - val_accuracy: 0.0600\n",
      "Epoch 9/50\n",
      " - 7s - loss: 3.6490 - accuracy: 0.2156 - val_loss: 4.5361 - val_accuracy: 0.0500\n",
      "Epoch 10/50\n",
      " - 7s - loss: 3.5786 - accuracy: 0.2167 - val_loss: 4.7563 - val_accuracy: 0.0400\n",
      "Epoch 11/50\n",
      " - 7s - loss: 3.6310 - accuracy: 0.1933 - val_loss: 4.6012 - val_accuracy: 0.0400\n",
      "Epoch 12/50\n",
      " - 7s - loss: 3.5813 - accuracy: 0.2278 - val_loss: 4.7428 - val_accuracy: 0.0400\n",
      "Epoch 13/50\n",
      " - 7s - loss: 3.4826 - accuracy: 0.2456 - val_loss: 4.5132 - val_accuracy: 0.0500\n",
      "Epoch 14/50\n",
      " - 7s - loss: 3.4216 - accuracy: 0.2589 - val_loss: 4.5130 - val_accuracy: 0.0800\n",
      "Epoch 15/50\n",
      " - 7s - loss: 3.4588 - accuracy: 0.2600 - val_loss: 9.0488 - val_accuracy: 0.0500\n",
      "Epoch 16/50\n",
      " - 7s - loss: 3.3687 - accuracy: 0.2767 - val_loss: 4.3248 - val_accuracy: 0.0700\n",
      "Epoch 17/50\n",
      " - 7s - loss: 3.2833 - accuracy: 0.2944 - val_loss: 4.5106 - val_accuracy: 0.1500\n",
      "Epoch 18/50\n",
      " - 7s - loss: 3.2793 - accuracy: 0.3056 - val_loss: 4.0339 - val_accuracy: 0.0800\n",
      "Epoch 19/50\n",
      " - 7s - loss: 3.2494 - accuracy: 0.3144 - val_loss: 4.1978 - val_accuracy: 0.0400\n",
      "Epoch 20/50\n",
      " - 7s - loss: 3.1728 - accuracy: 0.3189 - val_loss: 5.1842 - val_accuracy: 0.0200\n",
      "Epoch 21/50\n",
      " - 7s - loss: 3.1607 - accuracy: 0.3411 - val_loss: 4.8366 - val_accuracy: 0.0400\n",
      "Epoch 22/50\n",
      " - 7s - loss: 3.1340 - accuracy: 0.3156 - val_loss: 4.6517 - val_accuracy: 0.0400\n",
      "Epoch 23/50\n",
      " - 7s - loss: 3.0236 - accuracy: 0.3878 - val_loss: 30.3718 - val_accuracy: 0.0100\n",
      "Epoch 24/50\n",
      " - 7s - loss: 2.9823 - accuracy: 0.3933 - val_loss: 4.5435 - val_accuracy: 0.0600\n",
      "Epoch 25/50\n",
      " - 7s - loss: 3.0209 - accuracy: 0.3722 - val_loss: 3.9263 - val_accuracy: 0.1600\n",
      "Epoch 26/50\n",
      " - 7s - loss: 2.8977 - accuracy: 0.3933 - val_loss: 4.5222 - val_accuracy: 0.1400\n",
      "Epoch 27/50\n",
      " - 7s - loss: 2.8692 - accuracy: 0.4100 - val_loss: 4.9977 - val_accuracy: 0.1000\n",
      "Epoch 28/50\n",
      " - 7s - loss: 2.7806 - accuracy: 0.4333 - val_loss: 4.0752 - val_accuracy: 0.1500\n",
      "Epoch 29/50\n",
      " - 7s - loss: 2.7202 - accuracy: 0.4500 - val_loss: 4.1656 - val_accuracy: 0.0700\n",
      "Epoch 30/50\n",
      " - 7s - loss: 2.8085 - accuracy: 0.4078 - val_loss: 4.5392 - val_accuracy: 0.0400\n",
      "Epoch 31/50\n",
      " - 7s - loss: 2.7659 - accuracy: 0.4333 - val_loss: 4.3704 - val_accuracy: 0.0600\n",
      "Epoch 32/50\n",
      " - 7s - loss: 2.6863 - accuracy: 0.4478 - val_loss: 3.2408 - val_accuracy: 0.2400\n",
      "Epoch 33/50\n",
      " - 7s - loss: 2.5994 - accuracy: 0.4678 - val_loss: 3.1159 - val_accuracy: 0.2500\n",
      "Epoch 34/50\n",
      " - 7s - loss: 2.5943 - accuracy: 0.4878 - val_loss: 3.8366 - val_accuracy: 0.0600\n",
      "Epoch 35/50\n",
      " - 7s - loss: 2.6383 - accuracy: 0.4622 - val_loss: 4.2718 - val_accuracy: 0.1900\n",
      "Epoch 36/50\n",
      " - 7s - loss: 2.5601 - accuracy: 0.4867 - val_loss: 3.6834 - val_accuracy: 0.2200\n",
      "Epoch 37/50\n",
      " - 7s - loss: 2.3958 - accuracy: 0.5322 - val_loss: 4.1459 - val_accuracy: 0.1900\n",
      "Epoch 38/50\n",
      " - 7s - loss: 2.3952 - accuracy: 0.5278 - val_loss: 3.6322 - val_accuracy: 0.1800\n",
      "Epoch 39/50\n",
      " - 7s - loss: 2.3587 - accuracy: 0.5289 - val_loss: 3.1948 - val_accuracy: 0.1200\n",
      "Epoch 40/50\n",
      " - 7s - loss: 2.3431 - accuracy: 0.5500 - val_loss: 3.4936 - val_accuracy: 0.2300\n",
      "Epoch 41/50\n",
      " - 7s - loss: 2.3055 - accuracy: 0.5611 - val_loss: 3.7888 - val_accuracy: 0.1500\n",
      "Epoch 42/50\n",
      " - 7s - loss: 2.2617 - accuracy: 0.5733 - val_loss: 2.4912 - val_accuracy: 0.2900\n",
      "Epoch 43/50\n",
      " - 7s - loss: 2.1885 - accuracy: 0.5811 - val_loss: 3.9803 - val_accuracy: 0.2800\n",
      "Epoch 44/50\n",
      " - 7s - loss: 2.1471 - accuracy: 0.5944 - val_loss: 2.5363 - val_accuracy: 0.3400\n",
      "Epoch 45/50\n",
      " - 7s - loss: 2.1745 - accuracy: 0.5811 - val_loss: 2.3906 - val_accuracy: 0.3600\n",
      "Epoch 46/50\n",
      " - 7s - loss: 2.0809 - accuracy: 0.6189 - val_loss: 2.8703 - val_accuracy: 0.2500\n",
      "Epoch 47/50\n",
      " - 7s - loss: 1.9758 - accuracy: 0.6522 - val_loss: 3.0056 - val_accuracy: 0.3000\n",
      "Epoch 48/50\n",
      " - 7s - loss: 2.0698 - accuracy: 0.6267 - val_loss: 2.8074 - val_accuracy: 0.3000\n",
      "Epoch 49/50\n",
      " - 7s - loss: 1.9868 - accuracy: 0.6456 - val_loss: 3.4685 - val_accuracy: 0.3200\n",
      "Epoch 50/50\n",
      " - 7s - loss: 1.9661 - accuracy: 0.6556 - val_loss: 3.4317 - val_accuracy: 0.3500\n"
     ]
    },
    {
     "data": {
      "text/plain": [
       "<keras.callbacks.callbacks.History at 0x15bde8c10>"
      ]
     },
     "execution_count": 59,
     "metadata": {},
     "output_type": "execute_result"
    }
   ],
   "source": [
    "model.fit_generator(train_batches,\n",
    "                    steps_per_epoch=30,\n",
    "                    validation_data=valid_batches,\n",
    "                    validation_steps=10,\n",
    "                    epochs=50,\n",
    "                    verbose=2)"
   ]
  },
  {
   "cell_type": "code",
   "execution_count": null,
   "metadata": {},
   "outputs": [],
   "source": []
  },
  {
   "cell_type": "markdown",
   "metadata": {},
   "source": [
    "vgg16_model = keras.applications.vgg16.VGG16()\n"
   ]
  },
  {
   "cell_type": "code",
   "execution_count": null,
   "metadata": {},
   "outputs": [],
   "source": [
    "vgg16_model = keras.applications.vgg16.VGG16()\n"
   ]
  },
  {
   "cell_type": "code",
   "execution_count": null,
   "metadata": {},
   "outputs": [],
   "source": [
    "model = Sequential()\n",
    "for layer in vgg16_model.layers:\n",
    "    model.add(layer)"
   ]
  },
  {
   "cell_type": "markdown",
   "metadata": {},
   "source": [
    "# Modify Model\n"
   ]
  },
  {
   "cell_type": "code",
   "execution_count": null,
   "metadata": {},
   "outputs": [],
   "source": [
    "#removing last layer and add mine\n",
    "\n",
    "model.layers.pop()\n",
    "model.add(Dense(29, activation='softmax'))"
   ]
  },
  {
   "cell_type": "code",
   "execution_count": null,
   "metadata": {},
   "outputs": [],
   "source": [
    "model.summary()"
   ]
  },
  {
   "cell_type": "code",
   "execution_count": null,
   "metadata": {},
   "outputs": [],
   "source": [
    "model.compile(optimizer= 'sgd', loss= \"categorical_crossentropy\", metrics=['accuracy'])"
   ]
  },
  {
   "cell_type": "code",
   "execution_count": null,
   "metadata": {},
   "outputs": [],
   "source": [
    "model.fit_generator(train,\n",
    "                    steps_per_epoch=30,\n",
    "                    validation_data=valid,\n",
    "                    validation_steps=10,\n",
    "                    epochs=10,\n",
    "                    verbose=2)"
   ]
  },
  {
   "cell_type": "code",
   "execution_count": 62,
   "metadata": {},
   "outputs": [
    {
     "name": "stdout",
     "output_type": "stream",
     "text": [
      "Requirement already satisfied: h5py in /Users/tyronsamaroo/opt/anaconda3/lib/python3.7/site-packages (2.10.0)\n",
      "Requirement already satisfied: numpy>=1.7 in /Users/tyronsamaroo/opt/anaconda3/lib/python3.7/site-packages (from h5py) (1.18.1)\n",
      "Requirement already satisfied: six in /Users/tyronsamaroo/opt/anaconda3/lib/python3.7/site-packages (from h5py) (1.14.0)\n",
      "Note: you may need to restart the kernel to use updated packages.\n"
     ]
    }
   ],
   "source": [
    "pip install h5py"
   ]
  },
  {
   "cell_type": "code",
   "execution_count": 63,
   "metadata": {},
   "outputs": [
    {
     "name": "stdout",
     "output_type": "stream",
     "text": [
      "Saved model to disk\n"
     ]
    }
   ],
   "source": [
    "model_json = model.to_json()\n",
    "with open(\"model.json\", \"w\") as json_file:\n",
    "    json_file.write(model_json)\n",
    "# serialize weights to HDF5\n",
    "model.save_weights(\"model.h5\")\n",
    "print(\"Saved model to disk\")"
   ]
  },
  {
   "cell_type": "code",
   "execution_count": 64,
   "metadata": {},
   "outputs": [
    {
     "name": "stdout",
     "output_type": "stream",
     "text": [
      "accuracy: 73.33%\n"
     ]
    }
   ],
   "source": [
    "scores = model.evaluate(images, labels, verbose=0)\n",
    "print(\"%s: %.2f%%\" % (model.metrics_names[1], scores[1]*100))"
   ]
  },
  {
   "cell_type": "code",
   "execution_count": null,
   "metadata": {},
   "outputs": [],
   "source": []
  },
  {
   "cell_type": "code",
   "execution_count": null,
   "metadata": {},
   "outputs": [],
   "source": []
  }
 ],
 "metadata": {
  "kernelspec": {
   "display_name": "Python 3",
   "language": "python",
   "name": "python3"
  },
  "language_info": {
   "codemirror_mode": {
    "name": "ipython",
    "version": 3
   },
   "file_extension": ".py",
   "mimetype": "text/x-python",
   "name": "python",
   "nbconvert_exporter": "python",
   "pygments_lexer": "ipython3",
   "version": "3.7.6"
  }
 },
 "nbformat": 4,
 "nbformat_minor": 4
}
